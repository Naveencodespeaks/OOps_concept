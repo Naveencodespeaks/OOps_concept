{
 "cells": [
  {
   "cell_type": "markdown",
   "id": "feb38264",
   "metadata": {},
   "source": [
    "# class object "
   ]
  },
  {
   "cell_type": "code",
   "execution_count": 6,
   "id": "665a128a",
   "metadata": {},
   "outputs": [
    {
     "data": {
      "text/plain": [
       "'2024'"
      ]
     },
     "execution_count": 6,
     "metadata": {},
     "output_type": "execute_result"
    }
   ],
   "source": [
    "class car:\n",
    "    def __init__(self,name,brand,price,year):\n",
    "        self.name = name\n",
    "        self.brand = brand\n",
    "        self.price = price\n",
    "        self.year = year\n",
    "Benz_details = car(\"GLA200\", \"Benz\", \"1.2CR\", \"2024\")\n",
    "Benz_details.name\n",
    "Benz_details.brand\n",
    "Benz_details.price\n",
    "Benz_details.year"
   ]
  },
  {
   "cell_type": "code",
   "execution_count": 7,
   "id": "47b29bea",
   "metadata": {},
   "outputs": [],
   "source": [
    "# inheritence"
   ]
  },
  {
   "cell_type": "code",
   "execution_count": 20,
   "id": "60d70b5c",
   "metadata": {},
   "outputs": [
    {
     "name": "stdout",
     "output_type": "stream",
     "text": [
      "S class\n",
      "5 gear\n"
     ]
    }
   ],
   "source": [
    "class Vehicle:\n",
    "    def __init__(self, name, brand, year, price):\n",
    "        self.name = name\n",
    "        self.brand = brand\n",
    "        self.year = year\n",
    "        self.price = price\n",
    "\n",
    "class Car(Vehicle):\n",
    "    def __init__(self, name, brand, year, price, vech_type, color):\n",
    "        # Initialize parent class attributes\n",
    "        super().__init__(name, brand, year, price)\n",
    "        # Initialize Car-specific attributes\n",
    "        self.vech_type = vech_type\n",
    "        self.color = color\n",
    "\n",
    "class Bike(Vehicle):\n",
    "    def __init__(self, name, brand, year, price, gear, model):\n",
    "        # Initialize parent class attributes\n",
    "        super().__init__(name, brand, year, price)\n",
    "        # Initialize Bike-specific attributes\n",
    "        self.gear = gear\n",
    "        self.model = model\n",
    "\n",
    "# Example usage\n",
    "car_details = Car(\"S class\", \"Benz\", \"2024\", \"1.6cr\", \"Sedan\", \"Black\")\n",
    "bike_details = Bike(\"Royal Enfield\", \"Bullet 350\", \"2024\", \"1.51 Lakhs\", \"5 gear\", \"Top end\")\n",
    "\n",
    "# Accessing attributes\n",
    "print(car_details.name)  # Output: S class\n",
    "print(bike_details.gear)  # Output: Royal Enfield\n"
   ]
  },
  {
   "cell_type": "code",
   "execution_count": null,
   "id": "78ac8307",
   "metadata": {},
   "outputs": [],
   "source": []
  }
 ],
 "metadata": {
  "kernelspec": {
   "display_name": "Python 3 (ipykernel)",
   "language": "python",
   "name": "python3"
  },
  "language_info": {
   "codemirror_mode": {
    "name": "ipython",
    "version": 3
   },
   "file_extension": ".py",
   "mimetype": "text/x-python",
   "name": "python",
   "nbconvert_exporter": "python",
   "pygments_lexer": "ipython3",
   "version": "3.11.5"
  }
 },
 "nbformat": 4,
 "nbformat_minor": 5
}

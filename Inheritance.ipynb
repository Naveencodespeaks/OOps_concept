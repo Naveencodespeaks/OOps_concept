{
 "cells": [
  {
   "cell_type": "markdown",
   "id": "502764cb-1b53-46ad-bb4a-dc93c1822899",
   "metadata": {},
   "source": [
    "# oop's"
   ]
  },
  {
   "cell_type": "markdown",
   "id": "b2269cd8-8de6-431e-9e88-2bdbed0f2e34",
   "metadata": {},
   "source": [
    "# Inheritance"
   ]
  },
  {
   "cell_type": "code",
   "execution_count": 10,
   "id": "edf8fec1-4f08-4aa4-98ff-13121a37ecba",
   "metadata": {},
   "outputs": [
    {
     "name": "stdout",
     "output_type": "stream",
     "text": [
      "Meow\n",
      "Bowww\n"
     ]
    }
   ],
   "source": [
    "class Animal:\n",
    "    def speak(self):\n",
    "        return 'some sound'\n",
    "\n",
    "class Cat(Animal):\n",
    "    def speak(self):\n",
    "        return 'Meow'\n",
    "        \n",
    "class Dog(Animal):\n",
    "    def speak(self):\n",
    "        return 'Bowww'\n",
    "        \n",
    "my_cat = Cat()\n",
    "my_dog = Dog()\n",
    "print(my_cat.speak())\n",
    "print(my_dog.speak())\n",
    "\n",
    "        "
   ]
  },
  {
   "cell_type": "markdown",
   "id": "6058ef11-0e61-47ed-b533-cfe77d8d2552",
   "metadata": {},
   "source": [
    "# Example 1: Employee Hierarchy"
   ]
  },
  {
   "cell_type": "code",
   "execution_count": 14,
   "id": "063c1b13-2446-4266-9afd-5f87098f9393",
   "metadata": {},
   "outputs": [
    {
     "name": "stdout",
     "output_type": "stream",
     "text": [
      "Maya, salary $9000, department, HR\n",
      "Naveen, salary: $10000, programmin Language: Python\n"
     ]
    }
   ],
   "source": [
    "class Employee:\n",
    "    def __init__(self,name,salary):\n",
    "        self.name = name\n",
    "        self.salary = salary\n",
    "    def get_info(self):\n",
    "        return f\"{self.name},salary ${self.salary}\"\n",
    "\n",
    "class Manager(Employee):\n",
    "    def __init__(self,name,salary,department):\n",
    "        super().__init__(name,salary)\n",
    "        self.name = name\n",
    "        self.salary = salary\n",
    "        self.department = department\n",
    "\n",
    "    def get_info(self):\n",
    "        return f\"{self.name}, salary ${self.salary}, department, {self.department}\"\n",
    "\n",
    "class Developer(Employee):\n",
    "    def __init__(self,name,salary, programming_language):\n",
    "        super().__init__(name,salary)\n",
    "        self.programming_language = programming_language\n",
    "\n",
    "    def get_info(self):\n",
    "        return f\"{self.name}, salary: ${self.salary}, programmin Language: {self.programming_language}\"\n",
    "\n",
    "\n",
    "manager_detail = Manager(\"Madhumitha\",9000,\"HR\")\n",
    "developer_detail = Developer(\"Naveen\", 10000,\"Python\")\n",
    "\n",
    "print(manager_detail.get_info())\n",
    "print(developer_detail.get_info())"
   ]
  },
  {
   "cell_type": "code",
   "execution_count": null,
   "id": "b4a609fa-8576-44c1-a45d-9272e6d6ba18",
   "metadata": {},
   "outputs": [],
   "source": [
    "# Example 2: Vechicle information"
   ]
  },
  {
   "cell_type": "code",
   "execution_count": 28,
   "id": "a997a17d-f92e-4e75-a9d4-6b3eadb92444",
   "metadata": {},
   "outputs": [
    {
     "name": "stdout",
     "output_type": "stream",
     "text": [
      "GLA 650\n",
      "Name of the car: GLA 650, model: Manual, variant: Top End, type: SUV, price: $40,000\n",
      "Name of the motorcycle: Royal Enfield, model: 5-Gear, variant: Top_end, year: 2024, horsepower: 350HP, color: Maroon,price:1.51Lakhs\n"
     ]
    }
   ],
   "source": [
    "class Vehicle:  # Fixed spelling from 'vehicle' to 'Vehicle'\n",
    "    def __init__(self, name, model, variant, year):\n",
    "        self.name = name\n",
    "        self.model = model\n",
    "        self.variant = variant\n",
    "        self.year = year\n",
    "\n",
    "    def get_info(self):  # Use 'self' as the parameter\n",
    "        return f\"Name of the Vehicle is {self.name}, model is {self.model}, variant: {self.variant}, made in {self.year}\"\n",
    "\n",
    "\n",
    "class Car(Vehicle):  # Inherit from Vehicle\n",
    "    def __init__(self, name, model, variant, year, vehicle_type, price):\n",
    "        super().__init__(name, model, variant, year)  # Call the parent class constructor\n",
    "        self.vehicle_type = vehicle_type\n",
    "        self.price = price\n",
    "\n",
    "    def get_info(self):\n",
    "        return f\"Name of the car: {self.name}, model: {self.model}, variant: {self.variant}, type: {self.vehicle_type}, price: {self.price}\"\n",
    "\n",
    "\n",
    "class Bike(Vehicle):  # Inherit from Vehicle\n",
    "    def __init__(self, name, model, variant, year, hp, color,price):\n",
    "        super().__init__(name, model, variant, year)  # Call the parent class constructor\n",
    "        self.hp = hp  # Horsepower\n",
    "        self.color = color\n",
    "        self.price = price\n",
    "\n",
    "    def get_info(self):\n",
    "        return f\"Name of the motorcycle: {self.name}, model: {self.model}, variant: {self.variant}, year: {self.year}, horsepower: {self.hp}, color: {self.color},price:{self.price}\"\n",
    "\n",
    "\n",
    "# Creating instances of Car and Bike\n",
    "car_details = Car(\"GLA 650\", \"Manual\", \"Top End\", \"2024\", \"SUV\", \"$40,000\")\n",
    "bike_details = Bike(\"Royal Enfield\", \"5-Gear\", \"Top_end\",  \"2024\", \"350HP\", \"Maroon\",\"1.51Lakhs\",)\n",
    "\n",
    "# Accessing the name of the car\n",
    "print(car_details.name)  # Output: GLA 650\n",
    "print(car_details.get_info())  # Get car info\n",
    "print(bike_details.get_info())  # Get bike info\n"
   ]
  },
  {
   "cell_type": "markdown",
   "id": "1d83902a-525c-4672-a8b8-e43821f4f4b2",
   "metadata": {},
   "source": [
    "# Example 3: Geometric Shapes"
   ]
  },
  {
   "cell_type": "code",
   "execution_count": 29,
   "id": "3b4521f1-af74-4ea8-9aca-dcf7aef19c53",
   "metadata": {},
   "outputs": [
    {
     "name": "stdout",
     "output_type": "stream",
     "text": [
      "20\n",
      "28.27431\n"
     ]
    }
   ],
   "source": [
    "class Shape:\n",
    "    def area(self):\n",
    "        pass  # This will be overridden by subclasses\n",
    "\n",
    "class Rectangle(Shape):\n",
    "    def __init__(self, width, height):\n",
    "        self.width = width\n",
    "        self.height = height\n",
    "\n",
    "    def area(self):\n",
    "        return self.width * self.height\n",
    "\n",
    "class Circle(Shape):\n",
    "    def __init__(self, radius):\n",
    "        self.radius = radius\n",
    "\n",
    "    def area(self):\n",
    "        return 3.14159 * (self.radius ** 2)\n",
    "\n",
    "# Creating instances\n",
    "rectangle = Rectangle(4, 5)\n",
    "circle = Circle(3)\n",
    "\n",
    "print(rectangle.area())  # Output: 20\n",
    "print(circle.area())     # Output: 28.27431\n"
   ]
  },
  {
   "cell_type": "code",
   "execution_count": null,
   "id": "841e1d19-3904-4264-9fca-84f22f03249c",
   "metadata": {},
   "outputs": [],
   "source": []
  }
 ],
 "metadata": {
  "kernelspec": {
   "display_name": "Python 3 (ipykernel)",
   "language": "python",
   "name": "python3"
  },
  "language_info": {
   "codemirror_mode": {
    "name": "ipython",
    "version": 3
   },
   "file_extension": ".py",
   "mimetype": "text/x-python",
   "name": "python",
   "nbconvert_exporter": "python",
   "pygments_lexer": "ipython3",
   "version": "3.11.7"
  }
 },
 "nbformat": 4,
 "nbformat_minor": 5
}

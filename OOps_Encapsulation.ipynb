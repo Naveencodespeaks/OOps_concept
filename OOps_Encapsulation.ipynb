{
 "cells": [
  {
   "cell_type": "code",
   "execution_count": 1,
   "id": "20deda1a-4ef2-41b9-a195-4ee6f4bd9fd5",
   "metadata": {},
   "outputs": [],
   "source": [
    "# oop concepts\n"
   ]
  },
  {
   "cell_type": "code",
   "execution_count": 2,
   "id": "04373627-478b-4725-80c8-bb8400a72633",
   "metadata": {},
   "outputs": [],
   "source": [
    "# class and object"
   ]
  },
  {
   "cell_type": "code",
   "execution_count": 48,
   "id": "255a8ada-105a-4a65-93fd-1eb3b1468b56",
   "metadata": {},
   "outputs": [
    {
     "name": "stdout",
     "output_type": "stream",
     "text": [
      "GLA-550 Red\n",
      "service charger for the Bmw is 1.2 lakh\n",
      "your are car is good to go for more than 20 years\n"
     ]
    }
   ],
   "source": [
    "class car:\n",
    "    def __init__(self,name,brand,price,color,year,type,variant):\n",
    "        self.name = name\n",
    "        self.brand = brand\n",
    "        self.price = price\n",
    "        self.color = color\n",
    "        self.year = year\n",
    "        self.type = type\n",
    "        self.variant = variant\n",
    "    def maintenance(self):\n",
    "        if self.brand == \"BMW\":\n",
    "            print(\"service charger for the Bmw is 1.2 lakh\")\n",
    "        elif self.brand == \"Benz\":\n",
    "            print(\"service charger for the Benz is 1Lakh\")\n",
    "        elif self.brand == \"Tata\":\n",
    "            print(\"service charger for the Tata is 20-Thousand\")\n",
    "        else:\n",
    "            print(\"kindly enter you favorite brand\")\n",
    "    def manufacturing(self):\n",
    "        if self.year == \"2024\":\n",
    "            print(\"your are car is good to go for more than 20 years\")\n",
    "        else:\n",
    "            print(\"nothing to Manufacturing\")\n",
    "    \n",
    "            \n",
    "benz_details = car(\"GLA-550\", \"Benz\", \"1.2cr\", \"Red\", \"2024\", \"Automatic\", \"petrol\")\n",
    "bmw_details = car(\"MT-600\", \"BMW\", \"1.8cr\", \"Blue\", \"2024\", \"Manual\", \"petrol\")\n",
    "Tata_details = car(\"Harrier\", \"Tata\", \"30Lakhs\", \"Black\", \"2024\", \"Manual\", \"Diesel\")\n",
    "\n",
    "\n",
    "print(benz_details.name,benz_details.color)\n",
    "bmw_details.brand\n",
    "bmw_details.maintenance()\n",
    "benz_details.manufacturing()"
   ]
  },
  {
   "cell_type": "markdown",
   "id": "c4b3b10d-5816-4f01-baac-46d7411c8dfc",
   "metadata": {},
   "source": [
    "# Encapsulation"
   ]
  },
  {
   "cell_type": "code",
   "execution_count": 63,
   "id": "427726ea-071a-4867-ac8b-1ed9c62d1aa2",
   "metadata": {},
   "outputs": [
    {
     "name": "stdout",
     "output_type": "stream",
     "text": [
      "Hare Krishna@123\n",
      "HareRama@123\n"
     ]
    }
   ],
   "source": [
    "\n",
    "\n",
    "class Bank:\n",
    "    def __init__(self, Name,Acc, password, Balance, Branch, Area ):\n",
    "        self.Name = Name\n",
    "        self.Acc = Acc\n",
    "        self.__password = password\n",
    "        self.Balance = Balance\n",
    "        self.Branch = Branch\n",
    "        self.Area = Area\n",
    "        \n",
    "    def get_Password(self):\n",
    "        return self.__password\n",
    "\n",
    "    def set_Password(self, new_password):\n",
    "        self.__password = new_password\n",
    "    \n",
    "        \n",
    "HDFC_details = Bank(\"HDFC_Bank\", \"1234567\", \"Hare Krishna@123\", 3456728, \"Hyderabad\", \"Mallapur\")\n",
    "\n",
    "HDFC_details.Name\n",
    "HDFC_details.Acc\n",
    "\n",
    "print(HDFC_details.get_Password())\n",
    "HDFC_details.set_Password(\"HareRama@123\")\n",
    "print(HDFC_details.get_Password())"
   ]
  },
  {
   "cell_type": "markdown",
   "id": "5c90069d-c412-445a-94cb-b7255d76be8b",
   "metadata": {},
   "source": [
    "# pubic, private, protected"
   ]
  },
  {
   "cell_type": "code",
   "execution_count": 87,
   "id": "76fcbb61-3688-4d36-87fc-b03da13e80bd",
   "metadata": {},
   "outputs": [
    {
     "name": "stdout",
     "output_type": "stream",
     "text": [
      "Naveen\n",
      "Hare@123\n",
      "2578656\n"
     ]
    }
   ],
   "source": [
    "class Saving_account:\n",
    "    def __init__(self, Person_name, Name_of_bank, Account_Type, Password, Balance, Bank_Transations):\n",
    "        self.Person_name = Person_name  # public\n",
    "        self.Name_of_bank = Name_of_bank\n",
    "        self.Account_Type = Account_Type\n",
    "        self._Password = Password  # protected\n",
    "        self.__Balance = Balance  # private\n",
    "        self.Bank_Transations = Bank_Transations\n",
    "\n",
    "    def get_password(self):  # getter method for protected attribute\n",
    "        return self._Password\n",
    "\n",
    "    def set_password(self, new_password):  # setter method for protected attribute\n",
    "        self._Password = new_password\n",
    "\n",
    "    def get__Balance(self):  # getter method for private attribute\n",
    "        return self.__Balance\n",
    "\n",
    "# Creating an instance\n",
    "Hdfc_details = Saving_account(\"Naveen\", \"HDFC\", \"Saving_account\", \"HareKrishna@123\", 2578656, \"yes\")\n",
    "\n",
    "# Accessing and modifying attributes\n",
    "print(Hdfc_details.Person_name)       # Accessing public attribute\n",
    "Hdfc_details.set_password(\"Hare@123\") # Modifying protected attribute through a setter\n",
    "print(Hdfc_details.get_password())     # Accessing protected attribute through a getter\n",
    "print(Hdfc_details.get__Balance())     # Accessing private attribute through a getter\n"
   ]
  },
  {
   "cell_type": "code",
   "execution_count": null,
   "id": "e9d6933f-bcfc-4dd6-8762-364b8d09f3ed",
   "metadata": {},
   "outputs": [],
   "source": []
  }
 ],
 "metadata": {
  "kernelspec": {
   "display_name": "Python 3 (ipykernel)",
   "language": "python",
   "name": "python3"
  },
  "language_info": {
   "codemirror_mode": {
    "name": "ipython",
    "version": 3
   },
   "file_extension": ".py",
   "mimetype": "text/x-python",
   "name": "python",
   "nbconvert_exporter": "python",
   "pygments_lexer": "ipython3",
   "version": "3.11.7"
  }
 },
 "nbformat": 4,
 "nbformat_minor": 5
}
